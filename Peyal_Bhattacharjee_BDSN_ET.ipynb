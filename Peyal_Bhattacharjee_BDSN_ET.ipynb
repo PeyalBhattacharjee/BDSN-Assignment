{
  "nbformat": 4,
  "nbformat_minor": 0,
  "metadata": {
    "colab": {
      "name": "Peyal_Bhattacharjee_BDSN_ET.ipynb",
      "provenance": [],
      "collapsed_sections": []
    },
    "kernelspec": {
      "name": "python3",
      "display_name": "Python 3"
    },
    "language_info": {
      "name": "python"
    }
  },
  "cells": [
    {
      "cell_type": "markdown",
      "source": [
        "## Install and Initialize"
      ],
      "metadata": {
        "id": "AA3AAljAW2GD"
      }
    },
    {
      "cell_type": "code",
      "execution_count": null,
      "metadata": {
        "colab": {
          "base_uri": "https://localhost:8080/"
        },
        "id": "xfEh7c8bInNU",
        "outputId": "41336b7f-ea63-4cae-d4ce-a8e62033acec"
      },
      "outputs": [
        {
          "output_type": "stream",
          "name": "stdout",
          "text": [
            "\n",
            "WARNING: apt does not have a stable CLI interface. Use with caution in scripts.\n",
            "\n",
            "\n",
            "WARNING: apt does not have a stable CLI interface. Use with caution in scripts.\n",
            "\n"
          ]
        }
      ],
      "source": [
        "!apt update > /dev/null\n",
        "!apt install openjdk-8-jdk-headless -qq > /dev/null"
      ]
    },
    {
      "cell_type": "markdown",
      "source": [
        "## Get the latest version of Spark"
      ],
      "metadata": {
        "id": "5MSn1nj7WzvU"
      }
    },
    {
      "cell_type": "code",
      "source": [
        "!wget -q http://apache.osuosl.org/spark/spark-3.1.2/spark-3.1.2-bin-hadoop3.2.tgz\n",
        "\n",
        "!tar xf spark-3.1.2-bin-hadoop3.2.tgz\n",
        "!pip install -q pyspark\n",
        "\n",
        "import os\n",
        "os.environ[\"JAVA_HOME\"] = \"/usr/lib/jvm/java-8-openjdk-amd64\"\n",
        "os.environ[\"SPARK_HOME\"] = \"/content/spark-3.1.2-bin-hadoop3.2\""
      ],
      "metadata": {
        "colab": {
          "base_uri": "https://localhost:8080/"
        },
        "id": "axE2Z6evXvmo",
        "outputId": "cd430791-40c9-43a9-8bda-4090430a77f3"
      },
      "execution_count": null,
      "outputs": [
        {
          "output_type": "stream",
          "name": "stdout",
          "text": [
            "\u001b[K     |████████████████████████████████| 281.4 MB 30 kB/s \n",
            "\u001b[K     |████████████████████████████████| 198 kB 44.2 MB/s \n",
            "\u001b[?25h  Building wheel for pyspark (setup.py) ... \u001b[?25l\u001b[?25hdone\n"
          ]
        }
      ]
    },
    {
      "cell_type": "markdown",
      "source": [
        "## Import SparkSession from pyspark library"
      ],
      "metadata": {
        "id": "xbOBZIz1YLW-"
      }
    },
    {
      "cell_type": "code",
      "source": [
        "from pyspark.sql import SparkSession\n",
        "spark = SparkSession.builder.master(\"local[*]\").config('spark.ui.port', '4050').getOrCreate()"
      ],
      "metadata": {
        "id": "L3EZO4m_YNXU"
      },
      "execution_count": null,
      "outputs": []
    },
    {
      "cell_type": "code",
      "source": [
        "# The spark Console UI is available in the link that will be displayed in this cell\n",
        "# If you do not wish to use the Console, you may skip the Tunnel part\n",
        "\n",
        "sc = spark.sparkContext\n",
        "sc"
      ],
      "metadata": {
        "colab": {
          "base_uri": "https://localhost:8080/",
          "height": 196
        },
        "id": "V9XxlYR_YiBr",
        "outputId": "aa63fc69-5c6a-4b8a-d65f-4b7ab7fc15c4"
      },
      "execution_count": null,
      "outputs": [
        {
          "output_type": "execute_result",
          "data": {
            "text/html": [
              "\n",
              "        <div>\n",
              "            <p><b>SparkContext</b></p>\n",
              "\n",
              "            <p><a href=\"http://5aecae133ad2:4050\">Spark UI</a></p>\n",
              "\n",
              "            <dl>\n",
              "              <dt>Version</dt>\n",
              "                <dd><code>v3.1.2</code></dd>\n",
              "              <dt>Master</dt>\n",
              "                <dd><code>local[*]</code></dd>\n",
              "              <dt>AppName</dt>\n",
              "                <dd><code>pyspark-shell</code></dd>\n",
              "            </dl>\n",
              "        </div>\n",
              "        "
            ],
            "text/plain": [
              "<SparkContext master=local[*] appName=pyspark-shell>"
            ]
          },
          "metadata": {},
          "execution_count": 5
        }
      ]
    },
    {
      "cell_type": "markdown",
      "source": [
        "## Importing the necessary libraries"
      ],
      "metadata": {
        "id": "BqOujqFjZ03m"
      }
    },
    {
      "cell_type": "code",
      "source": [
        "from pyspark.ml import Pipeline\n",
        "from pyspark.sql.functions import mean, col, split, col, regexp_extract, when, lit\n",
        "from pyspark.ml.feature import StringIndexer, IndexToString, VectorAssembler, VectorIndexer\n",
        "from pyspark.ml.feature import QuantileDiscretizer, OneHotEncoder\n",
        "\n",
        "from pyspark.ml.evaluation import MulticlassClassificationEvaluator\n",
        "from pyspark.ml.evaluation import BinaryClassificationEvaluator\n",
        "\n",
        "from pyspark.ml.classification import LogisticRegression, DecisionTreeClassifier, RandomForestClassifier\n",
        "\n",
        "from pyspark.ml.tuning import ParamGridBuilder, CrossValidator"
      ],
      "metadata": {
        "id": "t2KpOAQxZ4et"
      },
      "execution_count": null,
      "outputs": []
    },
    {
      "cell_type": "markdown",
      "source": [
        "## Importing the data file from local machine"
      ],
      "metadata": {
        "id": "wJil_UCKiCzM"
      }
    },
    {
      "cell_type": "code",
      "source": [
        "from google.colab import files\n",
        " \n",
        " \n",
        "uploaded = files.upload()"
      ],
      "metadata": {
        "colab": {
          "resources": {
            "http://localhost:8080/nbextensions/google.colab/files.js": {
              "data": "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",
              "ok": true,
              "headers": [
                [
                  "content-type",
                  "application/javascript"
                ]
              ],
              "status": 200,
              "status_text": ""
            }
          },
          "base_uri": "https://localhost:8080/",
          "height": 74
        },
        "id": "bCReG6dOdmNf",
        "outputId": "bc0bdff5-0fa3-4192-fd68-6ca89d83f84b"
      },
      "execution_count": null,
      "outputs": [
        {
          "output_type": "display_data",
          "data": {
            "text/html": [
              "\n",
              "     <input type=\"file\" id=\"files-f7c23082-8ada-4188-8e6e-98d55ab532e4\" name=\"files[]\" multiple disabled\n",
              "        style=\"border:none\" />\n",
              "     <output id=\"result-f7c23082-8ada-4188-8e6e-98d55ab532e4\">\n",
              "      Upload widget is only available when the cell has been executed in the\n",
              "      current browser session. Please rerun this cell to enable.\n",
              "      </output>\n",
              "      <script src=\"/nbextensions/google.colab/files.js\"></script> "
            ],
            "text/plain": [
              "<IPython.core.display.HTML object>"
            ]
          },
          "metadata": {}
        },
        {
          "output_type": "stream",
          "name": "stdout",
          "text": [
            "Saving bank-full.csv to bank-full.csv\n"
          ]
        }
      ]
    },
    {
      "cell_type": "code",
      "source": [
        "import io\n",
        "data = io.BytesIO(uploaded['bank-full.csv'])"
      ],
      "metadata": {
        "id": "xG9-mmvheDa6"
      },
      "execution_count": null,
      "outputs": []
    },
    {
      "cell_type": "code",
      "source": [
        "bank_df = spark.read.csv('bank-full.csv', header = 'True', inferSchema = 'True',  sep = ';')"
      ],
      "metadata": {
        "id": "olZs7dNmflD_"
      },
      "execution_count": null,
      "outputs": []
    },
    {
      "cell_type": "markdown",
      "source": [
        "## Checking the data types of each column"
      ],
      "metadata": {
        "id": "KcwbTg7ziJmI"
      }
    },
    {
      "cell_type": "code",
      "source": [
        "bank_df.printSchema()"
      ],
      "metadata": {
        "colab": {
          "base_uri": "https://localhost:8080/"
        },
        "id": "hE9WODG3fz0I",
        "outputId": "567acdda-e983-4e37-f03f-b74716e92b97"
      },
      "execution_count": null,
      "outputs": [
        {
          "output_type": "stream",
          "name": "stdout",
          "text": [
            "root\n",
            " |-- age: integer (nullable = true)\n",
            " |-- job: string (nullable = true)\n",
            " |-- marital: string (nullable = true)\n",
            " |-- education: string (nullable = true)\n",
            " |-- default: string (nullable = true)\n",
            " |-- balance: integer (nullable = true)\n",
            " |-- housing: string (nullable = true)\n",
            " |-- loan: string (nullable = true)\n",
            " |-- contact: string (nullable = true)\n",
            " |-- day: integer (nullable = true)\n",
            " |-- month: string (nullable = true)\n",
            " |-- duration: integer (nullable = true)\n",
            " |-- campaign: integer (nullable = true)\n",
            " |-- pdays: integer (nullable = true)\n",
            " |-- previous: integer (nullable = true)\n",
            " |-- poutcome: string (nullable = true)\n",
            " |-- y: string (nullable = true)\n",
            "\n"
          ]
        }
      ]
    },
    {
      "cell_type": "markdown",
      "source": [
        "## Check the contents of the DataFrame"
      ],
      "metadata": {
        "id": "oH85XKb9iSjQ"
      }
    },
    {
      "cell_type": "code",
      "source": [
        "bank_df.show()"
      ],
      "metadata": {
        "colab": {
          "base_uri": "https://localhost:8080/"
        },
        "id": "W7VBTn7xf1o-",
        "outputId": "27411682-48ba-4915-a5fc-1aeb3834f610"
      },
      "execution_count": null,
      "outputs": [
        {
          "output_type": "stream",
          "name": "stdout",
          "text": [
            "+---+------------+--------+---------+-------+-------+-------+----+-------+---+-----+--------+--------+-----+--------+--------+---+\n",
            "|age|         job| marital|education|default|balance|housing|loan|contact|day|month|duration|campaign|pdays|previous|poutcome|  y|\n",
            "+---+------------+--------+---------+-------+-------+-------+----+-------+---+-----+--------+--------+-----+--------+--------+---+\n",
            "| 58|  management| married| tertiary|     no|   2143|    yes|  no|unknown|  5|  may|     261|       1|   -1|       0| unknown| no|\n",
            "| 44|  technician|  single|secondary|     no|     29|    yes|  no|unknown|  5|  may|     151|       1|   -1|       0| unknown| no|\n",
            "| 33|entrepreneur| married|secondary|     no|      2|    yes| yes|unknown|  5|  may|      76|       1|   -1|       0| unknown| no|\n",
            "| 47| blue-collar| married|  unknown|     no|   1506|    yes|  no|unknown|  5|  may|      92|       1|   -1|       0| unknown| no|\n",
            "| 33|     unknown|  single|  unknown|     no|      1|     no|  no|unknown|  5|  may|     198|       1|   -1|       0| unknown| no|\n",
            "| 35|  management| married| tertiary|     no|    231|    yes|  no|unknown|  5|  may|     139|       1|   -1|       0| unknown| no|\n",
            "| 28|  management|  single| tertiary|     no|    447|    yes| yes|unknown|  5|  may|     217|       1|   -1|       0| unknown| no|\n",
            "| 42|entrepreneur|divorced| tertiary|    yes|      2|    yes|  no|unknown|  5|  may|     380|       1|   -1|       0| unknown| no|\n",
            "| 58|     retired| married|  primary|     no|    121|    yes|  no|unknown|  5|  may|      50|       1|   -1|       0| unknown| no|\n",
            "| 43|  technician|  single|secondary|     no|    593|    yes|  no|unknown|  5|  may|      55|       1|   -1|       0| unknown| no|\n",
            "| 41|      admin.|divorced|secondary|     no|    270|    yes|  no|unknown|  5|  may|     222|       1|   -1|       0| unknown| no|\n",
            "| 29|      admin.|  single|secondary|     no|    390|    yes|  no|unknown|  5|  may|     137|       1|   -1|       0| unknown| no|\n",
            "| 53|  technician| married|secondary|     no|      6|    yes|  no|unknown|  5|  may|     517|       1|   -1|       0| unknown| no|\n",
            "| 58|  technician| married|  unknown|     no|     71|    yes|  no|unknown|  5|  may|      71|       1|   -1|       0| unknown| no|\n",
            "| 57|    services| married|secondary|     no|    162|    yes|  no|unknown|  5|  may|     174|       1|   -1|       0| unknown| no|\n",
            "| 51|     retired| married|  primary|     no|    229|    yes|  no|unknown|  5|  may|     353|       1|   -1|       0| unknown| no|\n",
            "| 45|      admin.|  single|  unknown|     no|     13|    yes|  no|unknown|  5|  may|      98|       1|   -1|       0| unknown| no|\n",
            "| 57| blue-collar| married|  primary|     no|     52|    yes|  no|unknown|  5|  may|      38|       1|   -1|       0| unknown| no|\n",
            "| 60|     retired| married|  primary|     no|     60|    yes|  no|unknown|  5|  may|     219|       1|   -1|       0| unknown| no|\n",
            "| 33|    services| married|secondary|     no|      0|    yes|  no|unknown|  5|  may|      54|       1|   -1|       0| unknown| no|\n",
            "+---+------------+--------+---------+-------+-------+-------+----+-------+---+-----+--------+--------+-----+--------+--------+---+\n",
            "only showing top 20 rows\n",
            "\n"
          ]
        }
      ]
    },
    {
      "cell_type": "markdown",
      "source": [
        "## Checking the Count and verifying the same"
      ],
      "metadata": {
        "id": "GipDeXTjid-x"
      }
    },
    {
      "cell_type": "code",
      "source": [
        "bank_df.count()"
      ],
      "metadata": {
        "colab": {
          "base_uri": "https://localhost:8080/"
        },
        "id": "XDD0i524g-Is",
        "outputId": "ce35cd47-7993-4516-c4f4-603267c3321a"
      },
      "execution_count": null,
      "outputs": [
        {
          "output_type": "execute_result",
          "data": {
            "text/plain": [
              "45211"
            ]
          },
          "metadata": {},
          "execution_count": 11
        }
      ]
    },
    {
      "cell_type": "markdown",
      "source": [
        "## Checking the summary statistics"
      ],
      "metadata": {
        "id": "GJaR3R1Yi5uh"
      }
    },
    {
      "cell_type": "code",
      "source": [
        "bank_df.describe([x[0] for x in bank_df.dtypes if x[1] == 'int']).show()"
      ],
      "metadata": {
        "colab": {
          "base_uri": "https://localhost:8080/"
        },
        "id": "um_IbRxKiw03",
        "outputId": "37d0c7e5-5804-40fd-ab27-73c7963a9d1f"
      },
      "execution_count": null,
      "outputs": [
        {
          "output_type": "stream",
          "name": "stdout",
          "text": [
            "+-------+------------------+------------------+-----------------+------------------+-----------------+------------------+------------------+\n",
            "|summary|               age|           balance|              day|          duration|         campaign|             pdays|          previous|\n",
            "+-------+------------------+------------------+-----------------+------------------+-----------------+------------------+------------------+\n",
            "|  count|             45211|             45211|            45211|             45211|            45211|             45211|             45211|\n",
            "|   mean| 40.93621021432837|1362.2720576850766|15.80641879188693| 258.1630797814691|2.763840658246887| 40.19782796222158|0.5803233726305546|\n",
            "| stddev|10.618762040975408|3044.7658291685243|8.322476153044596|257.52781226517095|3.098020883279184|100.12874599059813|2.3034410449312204|\n",
            "|    min|                18|             -8019|                1|                 0|                1|                -1|                 0|\n",
            "|    max|                95|            102127|               31|              4918|               63|               871|               275|\n",
            "+-------+------------------+------------------+-----------------+------------------+-----------------+------------------+------------------+\n",
            "\n"
          ]
        }
      ]
    },
    {
      "cell_type": "markdown",
      "source": [
        "## Renaming our target column (named as 'y') as deposit as the naming convention is not right"
      ],
      "metadata": {
        "id": "Vad-GdOpu3dh"
      }
    },
    {
      "cell_type": "code",
      "source": [
        "bank_df = bank_df.withColumnRenamed(\"y\",\"deposit\")\n",
        "\n",
        "bank_df.printSchema()"
      ],
      "metadata": {
        "colab": {
          "base_uri": "https://localhost:8080/"
        },
        "id": "X880Zvr3vBmu",
        "outputId": "84030f78-ea83-4005-b313-e5b6fe5c3a48"
      },
      "execution_count": null,
      "outputs": [
        {
          "output_type": "stream",
          "name": "stdout",
          "text": [
            "root\n",
            " |-- age: integer (nullable = true)\n",
            " |-- job: string (nullable = true)\n",
            " |-- marital: string (nullable = true)\n",
            " |-- education: string (nullable = true)\n",
            " |-- default: string (nullable = true)\n",
            " |-- balance: integer (nullable = true)\n",
            " |-- housing: string (nullable = true)\n",
            " |-- loan: string (nullable = true)\n",
            " |-- contact: string (nullable = true)\n",
            " |-- day: integer (nullable = true)\n",
            " |-- month: string (nullable = true)\n",
            " |-- duration: integer (nullable = true)\n",
            " |-- campaign: integer (nullable = true)\n",
            " |-- pdays: integer (nullable = true)\n",
            " |-- previous: integer (nullable = true)\n",
            " |-- poutcome: string (nullable = true)\n",
            " |-- deposit: string (nullable = true)\n",
            "\n"
          ]
        }
      ]
    },
    {
      "cell_type": "markdown",
      "source": [
        "## Number of customers who subscribed and did not subscribe for a term deposit"
      ],
      "metadata": {
        "id": "RTBdBmCit7Ni"
      }
    },
    {
      "cell_type": "code",
      "source": [
        "groupBy_clients = bank_df.groupBy(\"deposit\").count()"
      ],
      "metadata": {
        "id": "4umNmzG7uPF1"
      },
      "execution_count": null,
      "outputs": []
    },
    {
      "cell_type": "code",
      "source": [
        "groupBy_clients.show()"
      ],
      "metadata": {
        "colab": {
          "base_uri": "https://localhost:8080/"
        },
        "id": "bETYjDu_vxH6",
        "outputId": "e1476819-b592-4acf-bca1-dad0edea5f44"
      },
      "execution_count": null,
      "outputs": [
        {
          "output_type": "stream",
          "name": "stdout",
          "text": [
            "+-------+-----+\n",
            "|deposit|count|\n",
            "+-------+-----+\n",
            "|     no|39922|\n",
            "|    yes| 5289|\n",
            "+-------+-----+\n",
            "\n"
          ]
        }
      ]
    },
    {
      "cell_type": "markdown",
      "source": [
        "## Data Preprocessing"
      ],
      "metadata": {
        "id": "uoJ5tYxW1bwn"
      }
    },
    {
      "cell_type": "markdown",
      "source": [
        "### The following function code indexes each categorical column using the StringIndexer, and then converts the indexed categories into one-hot encoded variables. The resulting output has the binary vectors appended to the end of each row.\n",
        "\n",
        "### We then Run the stages as a Pipeline. This puts the data through all of the feature transformations we described in a single call.\n",
        "\n",
        "### Reference taken from the link 'https://runawayhorse001.github.io/LearningApacheSpark/classification.html'"
      ],
      "metadata": {
        "id": "oAoyyKZZ1eVt"
      }
    },
    {
      "cell_type": "code",
      "source": [
        "def get_dummy(df, categoricalCols, continuousCols, labelCol):\n",
        "  \n",
        "  indexers = [StringIndexer(inputCol=c, outputCol=\"{0}_indexed\".format(c)) for c in categoricalCols]\n",
        "\n",
        "  encoders = [OneHotEncoder(inputCol=indexer.getOutputCol(),\n",
        "                             outputCol=\"{0}_encoded\".format(indexer.getOutputCol()))\n",
        "              for indexer in indexers]\n",
        "\n",
        "  assembler = VectorAssembler(inputCols=[encoder.getOutputCol() for encoder in encoders]\n",
        "                              + continuousCols, outputCol=\"features\")\n",
        "  \n",
        "  indexer = StringIndexer(inputCol=labelCol, outputCol='indexedLabel')\n",
        "\n",
        "  pipeline = Pipeline(stages = indexers + encoders + [assembler] + [indexer])\n",
        "\n",
        "  model=pipeline.fit(df)\n",
        "  data = model.transform(df)\n",
        "\n",
        "  data = data.withColumn('label', col(labelCol))\n",
        "  \n",
        "  return data.select('features', 'indexedLabel', 'label'), StringIndexer(inputCol='label').fit(data)"
      ],
      "metadata": {
        "id": "wLjQa4C0xKzp"
      },
      "execution_count": null,
      "outputs": []
    },
    {
      "cell_type": "markdown",
      "source": [
        "## we have defined our lists of categorical as well as numerical variables. Now we can got ahead and transform the data"
      ],
      "metadata": {
        "id": "3A0cemtD2Qez"
      }
    },
    {
      "cell_type": "code",
      "source": [
        "categoricalColumns = ['job', 'marital', 'education', 'default', 'housing', 'loan', 'contact', 'poutcome']\n",
        "numericCols = ['age', 'balance', 'duration', 'campaign', 'pdays', 'previous']\n",
        "(bank_df, labelindexer) = get_dummy(bank_df, categoricalColumns, numericCols, 'deposit')"
      ],
      "metadata": {
        "id": "FCBWO-PYyBR1"
      },
      "execution_count": null,
      "outputs": []
    },
    {
      "cell_type": "code",
      "source": [
        "bank_df.show(5)"
      ],
      "metadata": {
        "colab": {
          "base_uri": "https://localhost:8080/"
        },
        "id": "Nwv9RVQmv6jT",
        "outputId": "ca084d23-6220-41b9-d975-f9fc69b63694"
      },
      "execution_count": null,
      "outputs": [
        {
          "output_type": "stream",
          "name": "stdout",
          "text": [
            "+--------------------+------------+-----+\n",
            "|            features|indexedLabel|label|\n",
            "+--------------------+------------+-----+\n",
            "|(30,[1,11,14,16,1...|         0.0|   no|\n",
            "|(30,[2,12,13,16,1...|         0.0|   no|\n",
            "|(30,[7,11,13,16,1...|         0.0|   no|\n",
            "|(30,[0,11,16,17,1...|         0.0|   no|\n",
            "|(30,[12,16,18,20,...|         0.0|   no|\n",
            "+--------------------+------------+-----+\n",
            "only showing top 5 rows\n",
            "\n"
          ]
        }
      ]
    },
    {
      "cell_type": "markdown",
      "source": [
        "## It is essential to fit the following featureIndexer model on the whole of the bank_df dataframe. This will automatically identify categorical features, and index them. Set maxCategories so features with > 4 distinct values are treated as continuous."
      ],
      "metadata": {
        "id": "pIIs59sV3dYk"
      }
    },
    {
      "cell_type": "code",
      "source": [
        "featureIndexer = VectorIndexer(inputCol=\"features\", outputCol=\"indexedFeatures\", maxCategories=4).fit(bank_df)\n",
        "\n",
        "featureIndexer.transform(bank_df).show(5)"
      ],
      "metadata": {
        "colab": {
          "base_uri": "https://localhost:8080/"
        },
        "id": "4OVH7hmeyDp_",
        "outputId": "3789081f-eeb1-48fe-8216-f18dfec1aaf1"
      },
      "execution_count": null,
      "outputs": [
        {
          "output_type": "stream",
          "name": "stdout",
          "text": [
            "+--------------------+------------+-----+--------------------+\n",
            "|            features|indexedLabel|label|     indexedFeatures|\n",
            "+--------------------+------------+-----+--------------------+\n",
            "|(30,[1,11,14,16,1...|         0.0|   no|(30,[1,11,14,16,1...|\n",
            "|(30,[2,12,13,16,1...|         0.0|   no|(30,[2,12,13,16,1...|\n",
            "|(30,[7,11,13,16,1...|         0.0|   no|(30,[7,11,13,16,1...|\n",
            "|(30,[0,11,16,17,1...|         0.0|   no|(30,[0,11,16,17,1...|\n",
            "|(30,[12,16,18,20,...|         0.0|   no|(30,[12,16,18,20,...|\n",
            "+--------------------+------------+-----+--------------------+\n",
            "only showing top 5 rows\n",
            "\n"
          ]
        }
      ]
    },
    {
      "cell_type": "code",
      "source": [
        "bank_df.show(5, False)"
      ],
      "metadata": {
        "colab": {
          "base_uri": "https://localhost:8080/"
        },
        "id": "DP7xzIpVyUDl",
        "outputId": "aaf2b816-b2c4-4de5-b7d0-69cbd2ea6938"
      },
      "execution_count": null,
      "outputs": [
        {
          "output_type": "stream",
          "name": "stdout",
          "text": [
            "+---------------------------------------------------------------------------------------------------------+------------+-----+\n",
            "|features                                                                                                 |indexedLabel|label|\n",
            "+---------------------------------------------------------------------------------------------------------+------------+-----+\n",
            "|(30,[1,11,14,16,17,18,20,21,24,25,26,27,28],[1.0,1.0,1.0,1.0,1.0,1.0,1.0,1.0,58.0,2143.0,261.0,1.0,-1.0])|0.0         |no   |\n",
            "|(30,[2,12,13,16,17,18,20,21,24,25,26,27,28],[1.0,1.0,1.0,1.0,1.0,1.0,1.0,1.0,44.0,29.0,151.0,1.0,-1.0])  |0.0         |no   |\n",
            "|(30,[7,11,13,16,17,20,21,24,25,26,27,28],[1.0,1.0,1.0,1.0,1.0,1.0,1.0,33.0,2.0,76.0,1.0,-1.0])           |0.0         |no   |\n",
            "|(30,[0,11,16,17,18,20,21,24,25,26,27,28],[1.0,1.0,1.0,1.0,1.0,1.0,1.0,47.0,1506.0,92.0,1.0,-1.0])        |0.0         |no   |\n",
            "|(30,[12,16,18,20,21,24,25,26,27,28],[1.0,1.0,1.0,1.0,1.0,33.0,1.0,198.0,1.0,-1.0])                       |0.0         |no   |\n",
            "+---------------------------------------------------------------------------------------------------------+------------+-----+\n",
            "only showing top 5 rows\n",
            "\n"
          ]
        }
      ]
    },
    {
      "cell_type": "markdown",
      "source": [
        "## Splitting the Data"
      ],
      "metadata": {
        "id": "3OXGc5u25FmD"
      }
    },
    {
      "cell_type": "markdown",
      "source": [
        "### Split the data randomly in training and testing sets"
      ],
      "metadata": {
        "id": "6AI36cED5T_y"
      }
    },
    {
      "cell_type": "code",
      "source": [
        "(trainingData, testData) = bank_df.randomSplit([0.8, 0.2], seed=10)\n",
        "print(\"Training Dataset Count: \" + str(trainingData.count()))\n",
        "print(\"Test Dataset Count: \" + str(testData.count()))"
      ],
      "metadata": {
        "colab": {
          "base_uri": "https://localhost:8080/"
        },
        "id": "eVUNdMyC5gj7",
        "outputId": "a5ff7d21-79a5-447c-8b3f-a755b549c022"
      },
      "execution_count": null,
      "outputs": [
        {
          "output_type": "stream",
          "name": "stdout",
          "text": [
            "Training Dataset Count: 36169\n",
            "Test Dataset Count: 9042\n"
          ]
        }
      ]
    },
    {
      "cell_type": "markdown",
      "source": [
        "## Checking the 1st 10 samples of training set"
      ],
      "metadata": {
        "id": "5Y6_jDkm6BcC"
      }
    },
    {
      "cell_type": "code",
      "source": [
        "print(\"The first 10 samples of the Training Dataset:\")\n",
        "trainingData.show(10, False)"
      ],
      "metadata": {
        "colab": {
          "base_uri": "https://localhost:8080/"
        },
        "id": "hxbzYuOh58k1",
        "outputId": "b22fca87-bf5d-464d-bdf7-c42d7b4b6f12"
      },
      "execution_count": null,
      "outputs": [
        {
          "output_type": "stream",
          "name": "stdout",
          "text": [
            "The first 10 samples of the Training Dataset:\n",
            "+---------------------------------------------------------------------------------------------------------+------------+-----+\n",
            "|features                                                                                                 |indexedLabel|label|\n",
            "+---------------------------------------------------------------------------------------------------------+------------+-----+\n",
            "|(30,[0,11,13,16,17,18,19,21,24,25,26,27,28],[1.0,1.0,1.0,1.0,1.0,1.0,1.0,1.0,24.0,-220.0,90.0,1.0,-1.0]) |0.0         |no   |\n",
            "|(30,[0,11,13,16,17,18,19,21,24,25,26,27,28],[1.0,1.0,1.0,1.0,1.0,1.0,1.0,1.0,24.0,1470.0,212.0,1.0,-1.0])|0.0         |no   |\n",
            "|(30,[0,11,13,16,17,18,19,21,24,25,26,27,28],[1.0,1.0,1.0,1.0,1.0,1.0,1.0,1.0,25.0,2.0,102.0,2.0,-1.0])   |0.0         |no   |\n",
            "|(30,[0,11,13,16,17,18,19,21,24,25,26,27,28],[1.0,1.0,1.0,1.0,1.0,1.0,1.0,1.0,25.0,59.0,246.0,1.0,-1.0])  |0.0         |no   |\n",
            "|(30,[0,11,13,16,17,18,19,21,24,25,26,27,28],[1.0,1.0,1.0,1.0,1.0,1.0,1.0,1.0,25.0,2307.0,104.0,5.0,-1.0])|0.0         |no   |\n",
            "|(30,[0,11,13,16,17,18,19,21,24,25,26,27,28],[1.0,1.0,1.0,1.0,1.0,1.0,1.0,1.0,26.0,160.0,252.0,4.0,-1.0]) |0.0         |no   |\n",
            "|(30,[0,11,13,16,17,18,19,21,24,25,26,27,28],[1.0,1.0,1.0,1.0,1.0,1.0,1.0,1.0,26.0,242.0,117.0,2.0,-1.0]) |0.0         |no   |\n",
            "|(30,[0,11,13,16,17,18,19,21,24,25,26,27,28],[1.0,1.0,1.0,1.0,1.0,1.0,1.0,1.0,26.0,697.0,253.0,2.0,-1.0]) |0.0         |no   |\n",
            "|(30,[0,11,13,16,17,18,19,21,24,25,26,27,28],[1.0,1.0,1.0,1.0,1.0,1.0,1.0,1.0,26.0,895.0,820.0,3.0,-1.0]) |0.0         |no   |\n",
            "|(30,[0,11,13,16,17,18,19,21,24,25,26,27,28],[1.0,1.0,1.0,1.0,1.0,1.0,1.0,1.0,27.0,1.0,259.0,1.0,-1.0])   |0.0         |no   |\n",
            "+---------------------------------------------------------------------------------------------------------+------------+-----+\n",
            "only showing top 10 rows\n",
            "\n"
          ]
        }
      ]
    },
    {
      "cell_type": "markdown",
      "source": [
        "## Checking the 1st 10 samples of test set"
      ],
      "metadata": {
        "id": "vcl8ugSX6MDs"
      }
    },
    {
      "cell_type": "code",
      "source": [
        "print(\"The first 10 samples of the Test Dataset:\")\n",
        "testData.show(10, False)"
      ],
      "metadata": {
        "colab": {
          "base_uri": "https://localhost:8080/"
        },
        "id": "4_FuJoon6TaC",
        "outputId": "45357513-7e20-4d39-b34f-526d403cb32d"
      },
      "execution_count": null,
      "outputs": [
        {
          "output_type": "stream",
          "name": "stdout",
          "text": [
            "The first 10 samples of the Test Dataset:\n",
            "+----------------------------------------------------------------------------------------------------------+------------+-----+\n",
            "|features                                                                                                  |indexedLabel|label|\n",
            "+----------------------------------------------------------------------------------------------------------+------------+-----+\n",
            "|(30,[0,11,13,16,17,18,19,21,24,25,26,27,28],[1.0,1.0,1.0,1.0,1.0,1.0,1.0,1.0,24.0,1222.0,369.0,1.0,-1.0]) |0.0         |no   |\n",
            "|(30,[0,11,13,16,17,18,19,21,24,25,26,27,28],[1.0,1.0,1.0,1.0,1.0,1.0,1.0,1.0,25.0,-23.0,936.0,1.0,-1.0])  |0.0         |no   |\n",
            "|(30,[0,11,13,16,17,18,19,21,24,25,26,27,28],[1.0,1.0,1.0,1.0,1.0,1.0,1.0,1.0,25.0,148.0,119.0,1.0,-1.0])  |0.0         |no   |\n",
            "|(30,[0,11,13,16,17,18,19,21,24,25,26,27,28],[1.0,1.0,1.0,1.0,1.0,1.0,1.0,1.0,26.0,622.0,471.0,2.0,-1.0])  |0.0         |no   |\n",
            "|(30,[0,11,13,16,17,18,19,21,24,25,26,27,28],[1.0,1.0,1.0,1.0,1.0,1.0,1.0,1.0,26.0,5795.0,1094.0,2.0,-1.0])|1.0         |yes  |\n",
            "|(30,[0,11,13,16,17,18,19,21,24,25,26,27,28],[1.0,1.0,1.0,1.0,1.0,1.0,1.0,1.0,27.0,191.0,401.0,2.0,-1.0])  |0.0         |no   |\n",
            "|(30,[0,11,13,16,17,18,19,21,24,25,26,27,28],[1.0,1.0,1.0,1.0,1.0,1.0,1.0,1.0,28.0,1325.0,242.0,1.0,-1.0]) |0.0         |no   |\n",
            "|(30,[0,11,13,16,17,18,19,21,24,25,26,27,28],[1.0,1.0,1.0,1.0,1.0,1.0,1.0,1.0,28.0,2257.0,352.0,1.0,-1.0]) |0.0         |no   |\n",
            "|(30,[0,11,13,16,17,18,19,21,24,25,26,27,28],[1.0,1.0,1.0,1.0,1.0,1.0,1.0,1.0,29.0,9.0,236.0,8.0,-1.0])    |0.0         |no   |\n",
            "|(30,[0,11,13,16,17,18,19,21,24,25,26,27,28],[1.0,1.0,1.0,1.0,1.0,1.0,1.0,1.0,29.0,25.0,50.0,5.0,-1.0])    |0.0         |no   |\n",
            "+----------------------------------------------------------------------------------------------------------+------------+-----+\n",
            "only showing top 10 rows\n",
            "\n"
          ]
        }
      ]
    },
    {
      "cell_type": "markdown",
      "source": [
        "## Evaluate Machine Learning Algorithms\n",
        "\n",
        "### The below steps are used to build the models:\n",
        "\n",
        "### Create initial model using the training set\n",
        "### Tune parameters with a ParamGrid and 5-fold Cross Validation\n",
        "### Evaluate the best model obtained from the Cross Validation using the test set\n",
        "\n",
        "### We will use some functions to evaluate our models like the BinaryClassificationEvaluator which uses areaUnderROC as the default metric."
      ],
      "metadata": {
        "id": "alxSZEkJ6bqd"
      }
    },
    {
      "cell_type": "markdown",
      "source": [
        "### Let us fit a logistic regression model. Train the same with our training data"
      ],
      "metadata": {
        "id": "bbNLfd0d6ibq"
      }
    },
    {
      "cell_type": "code",
      "source": [
        "lr = LogisticRegression(labelCol=\"indexedLabel\", featuresCol=\"features\")"
      ],
      "metadata": {
        "id": "cTp7cLvw7LF5"
      },
      "execution_count": null,
      "outputs": []
    },
    {
      "cell_type": "code",
      "source": [
        "## Converting indexed labels back to original labels\n",
        "\n",
        "labelConverter = IndexToString(inputCol=\"prediction\", outputCol=\"predictedLabel\", labels=labelindexer.labels)"
      ],
      "metadata": {
        "id": "QKJO9RhG7hXl"
      },
      "execution_count": null,
      "outputs": []
    },
    {
      "cell_type": "code",
      "source": [
        "## Chaining indexers and tree in a Pipeline\n",
        "\n",
        "pipeline = Pipeline(stages=[featureIndexer, lr, labelConverter])"
      ],
      "metadata": {
        "id": "8eO-vWUv7obV"
      },
      "execution_count": null,
      "outputs": []
    },
    {
      "cell_type": "code",
      "source": [
        "## Training the model on our trainig set\n",
        "\n",
        "lrModel = pipeline.fit(trainingData)"
      ],
      "metadata": {
        "id": "r2CgWtrZ7uCU"
      },
      "execution_count": null,
      "outputs": []
    },
    {
      "cell_type": "markdown",
      "source": [
        "## Making predictions on the test data using the transform() method. LogisticRegression.transform() will only use the column given in featuresCol parameter."
      ],
      "metadata": {
        "id": "DSzmqqeL8E2E"
      }
    },
    {
      "cell_type": "code",
      "source": [
        "predictions = lrModel.transform(testData)"
      ],
      "metadata": {
        "id": "zmbl0wsc8Ws8"
      },
      "execution_count": null,
      "outputs": []
    },
    {
      "cell_type": "markdown",
      "source": [
        "## Let us now check the predictions"
      ],
      "metadata": {
        "id": "t0saiXbF8Ybs"
      }
    },
    {
      "cell_type": "code",
      "source": [
        "predictions.show(10)"
      ],
      "metadata": {
        "colab": {
          "base_uri": "https://localhost:8080/"
        },
        "id": "sJkeQZTn8brA",
        "outputId": "9c787d49-04fc-4d1f-ee91-88af92328c0b"
      },
      "execution_count": null,
      "outputs": [
        {
          "output_type": "stream",
          "name": "stdout",
          "text": [
            "+--------------------+------------+-----+--------------------+--------------------+--------------------+----------+--------------+\n",
            "|            features|indexedLabel|label|     indexedFeatures|       rawPrediction|         probability|prediction|predictedLabel|\n",
            "+--------------------+------------+-----+--------------------+--------------------+--------------------+----------+--------------+\n",
            "|(30,[0,11,13,16,1...|         0.0|   no|(30,[0,11,13,16,1...|[2.53914950939763...|[0.92684117862563...|       0.0|            no|\n",
            "|(30,[0,11,13,16,1...|         0.0|   no|(30,[0,11,13,16,1...|[0.27682534642401...|[0.56876774409702...|       0.0|            no|\n",
            "|(30,[0,11,13,16,1...|         0.0|   no|(30,[0,11,13,16,1...|[3.56698071014976...|[0.97253465576094...|       0.0|            no|\n",
            "|(30,[0,11,13,16,1...|         0.0|   no|(30,[0,11,13,16,1...|[2.24351863333884...|[0.90408999758248...|       0.0|            no|\n",
            "|(30,[0,11,13,16,1...|         1.0|  yes|(30,[0,11,13,16,1...|[-0.3669208225733...|[0.40928526839628...|       1.0|           yes|\n",
            "|(30,[0,11,13,16,1...|         0.0|   no|(30,[0,11,13,16,1...|[2.53343561949650...|[0.92645279294536...|       0.0|            no|\n",
            "|(30,[0,11,13,16,1...|         0.0|   no|(30,[0,11,13,16,1...|[3.04707338701293...|[0.95465600798036...|       0.0|            no|\n",
            "|(30,[0,11,13,16,1...|         0.0|   no|(30,[0,11,13,16,1...|[2.58580442694580...|[0.92994236996810...|       0.0|            no|\n",
            "|(30,[0,11,13,16,1...|         0.0|   no|(30,[0,11,13,16,1...|[3.83153212536498...|[0.97878351728092...|       0.0|            no|\n",
            "|(30,[0,11,13,16,1...|         0.0|   no|(30,[0,11,13,16,1...|[4.26576287918179...|[0.98615327265024...|       0.0|            no|\n",
            "+--------------------+------------+-----+--------------------+--------------------+--------------------+----------+--------------+\n",
            "only showing top 10 rows\n",
            "\n"
          ]
        }
      ]
    },
    {
      "cell_type": "markdown",
      "source": [
        "## Let us view the model's predictions and probabilities of each prediction class"
      ],
      "metadata": {
        "id": "5qw-3nC68pFH"
      }
    },
    {
      "cell_type": "code",
      "source": [
        "predictions.select(\"features\", \"label\", \"probability\", \"predictedLabel\").show(10)"
      ],
      "metadata": {
        "colab": {
          "base_uri": "https://localhost:8080/"
        },
        "id": "oF9Gom__8sKS",
        "outputId": "37ce20a8-7470-4059-c454-89165279a427"
      },
      "execution_count": null,
      "outputs": [
        {
          "output_type": "stream",
          "name": "stdout",
          "text": [
            "+--------------------+-----+--------------------+--------------+\n",
            "|            features|label|         probability|predictedLabel|\n",
            "+--------------------+-----+--------------------+--------------+\n",
            "|(30,[0,11,13,16,1...|   no|[0.92684117862563...|            no|\n",
            "|(30,[0,11,13,16,1...|   no|[0.56876774409702...|            no|\n",
            "|(30,[0,11,13,16,1...|   no|[0.97253465576094...|            no|\n",
            "|(30,[0,11,13,16,1...|   no|[0.90408999758248...|            no|\n",
            "|(30,[0,11,13,16,1...|  yes|[0.40928526839628...|           yes|\n",
            "|(30,[0,11,13,16,1...|   no|[0.92645279294536...|            no|\n",
            "|(30,[0,11,13,16,1...|   no|[0.95465600798036...|            no|\n",
            "|(30,[0,11,13,16,1...|   no|[0.92994236996810...|            no|\n",
            "|(30,[0,11,13,16,1...|   no|[0.97878351728092...|            no|\n",
            "|(30,[0,11,13,16,1...|   no|[0.98615327265024...|            no|\n",
            "+--------------------+-----+--------------------+--------------+\n",
            "only showing top 10 rows\n",
            "\n"
          ]
        }
      ]
    },
    {
      "cell_type": "markdown",
      "source": [
        "## Computing the model accuracy"
      ],
      "metadata": {
        "id": "NuPV8D8780lc"
      }
    },
    {
      "cell_type": "code",
      "source": [
        "cm = predictions.select(\"label\", \"predictedLabel\")          \n",
        "cm.groupby('label').agg({'label': 'count'}).show()  \n",
        "cm.groupby('predictedLabel').agg({'predictedLabel': 'count'}).show()"
      ],
      "metadata": {
        "colab": {
          "base_uri": "https://localhost:8080/"
        },
        "id": "niOKhdNI80E-",
        "outputId": "40b87515-4427-4f83-9583-769afa10588e"
      },
      "execution_count": null,
      "outputs": [
        {
          "output_type": "stream",
          "name": "stdout",
          "text": [
            "+-----+------------+\n",
            "|label|count(label)|\n",
            "+-----+------------+\n",
            "|   no|        8017|\n",
            "|  yes|        1025|\n",
            "+-----+------------+\n",
            "\n",
            "+--------------+---------------------+\n",
            "|predictedLabel|count(predictedLabel)|\n",
            "+--------------+---------------------+\n",
            "|            no|                 8534|\n",
            "|           yes|                  508|\n",
            "+--------------+---------------------+\n",
            "\n"
          ]
        }
      ]
    },
    {
      "cell_type": "code",
      "source": [
        "predictions.groupBy('label', 'predictedLabel').count().show()"
      ],
      "metadata": {
        "colab": {
          "base_uri": "https://localhost:8080/"
        },
        "id": "FpG81gOZ9YjG",
        "outputId": "495d50b5-4c6d-4eb7-f83e-fd001754c4c6"
      },
      "execution_count": null,
      "outputs": [
        {
          "output_type": "stream",
          "name": "stdout",
          "text": [
            "+-----+--------------+-----+\n",
            "|label|predictedLabel|count|\n",
            "+-----+--------------+-----+\n",
            "|   no|            no| 7830|\n",
            "|   no|           yes|  187|\n",
            "|  yes|           yes|  321|\n",
            "|  yes|            no|  704|\n",
            "+-----+--------------+-----+\n",
            "\n"
          ]
        }
      ]
    },
    {
      "cell_type": "markdown",
      "source": [
        "## For instance, in the test dataset there are 1025 customers that have the intension to subscribe a deposit and 8017 who does not. The classifier, however, predicted 508 clients having the intention to subscribe a deposit. It is possible to compute the accuracy of the model by computing the count when the labels are correctly classified over the total number of rows."
      ],
      "metadata": {
        "id": "4BnIoMrY9iR3"
      }
    },
    {
      "cell_type": "code",
      "source": [
        "print(\"The Accuracy for test set is {}\".format(cm.filter(cm.label == cm.predictedLabel).count()/cm.count()))"
      ],
      "metadata": {
        "colab": {
          "base_uri": "https://localhost:8080/"
        },
        "id": "JS8mS9tp-iI6",
        "outputId": "728e076d-a11d-4b5a-f958-ab51c21d685f"
      },
      "execution_count": null,
      "outputs": [
        {
          "output_type": "stream",
          "name": "stdout",
          "text": [
            "The Accuracy for test set is 0.9014598540145985\n"
          ]
        }
      ]
    },
    {
      "cell_type": "markdown",
      "source": [
        "## The accuracy of the model and other metrics computed using the MulticlassClassificationEvaluator() function"
      ],
      "metadata": {
        "id": "fBMVfMLT-vDS"
      }
    },
    {
      "cell_type": "code",
      "source": [
        "evaluator = MulticlassClassificationEvaluator(labelCol=\"indexedLabel\", predictionCol=\"prediction\", metricName=\"accuracy\")\n",
        "print(\"The Accuracy for test set is {}\".format(evaluator.evaluate(predictions)))"
      ],
      "metadata": {
        "colab": {
          "base_uri": "https://localhost:8080/"
        },
        "id": "GaDlEbAe-yxp",
        "outputId": "ddf17cb0-e98b-48a5-d0a9-49b7b43234d5"
      },
      "execution_count": null,
      "outputs": [
        {
          "output_type": "stream",
          "name": "stdout",
          "text": [
            "The Accuracy for test set is 0.9014598540145985\n"
          ]
        }
      ]
    },
    {
      "cell_type": "markdown",
      "source": [
        "## Let us generate a Confusion Matrix to better see the results of the predictions. ConfusionMatrix() works only with RDDs, so we will have to convert our DataFrame of (prediction, label) into a RDD. "
      ],
      "metadata": {
        "id": "-bfAPp83---p"
      }
    },
    {
      "cell_type": "code",
      "source": [
        "from pyspark.mllib.evaluation import BinaryClassificationMetrics\n",
        "from pyspark.mllib.evaluation import MulticlassMetrics"
      ],
      "metadata": {
        "id": "KF9EmuZD-8Ih"
      },
      "execution_count": null,
      "outputs": []
    },
    {
      "cell_type": "code",
      "source": [
        "predictionAndLabel = predictions.select(\"prediction\", \"indexedLabel\").rdd"
      ],
      "metadata": {
        "id": "5m83nzbM_LTz"
      },
      "execution_count": null,
      "outputs": []
    },
    {
      "cell_type": "code",
      "source": [
        "# Instantiate metrics object \n",
        "\n",
        "metricsMulti = MulticlassMetrics(predictionAndLabel)\n",
        "metricsBinary= BinaryClassificationMetrics(predictionAndLabel)"
      ],
      "metadata": {
        "colab": {
          "base_uri": "https://localhost:8080/"
        },
        "id": "bJPCE7mP_OJA",
        "outputId": "8eebaba3-7df7-424b-bec0-da35cbcb3767"
      },
      "execution_count": null,
      "outputs": [
        {
          "output_type": "stream",
          "name": "stderr",
          "text": [
            "/usr/local/lib/python3.7/dist-packages/pyspark/sql/context.py:127: FutureWarning: Deprecated in 3.0.0. Use SparkSession.builder.getOrCreate() instead.\n",
            "  FutureWarning\n",
            "/usr/local/lib/python3.7/dist-packages/pyspark/sql/context.py:127: FutureWarning: Deprecated in 3.0.0. Use SparkSession.builder.getOrCreate() instead.\n",
            "  FutureWarning\n"
          ]
        }
      ]
    },
    {
      "cell_type": "code",
      "source": [
        "# Overall statistics\n",
        "\n",
        "confusionMatrix = metricsMulti.confusionMatrix()\n",
        "precision = metricsMulti.precision(label=1) \n",
        "recall = metricsMulti.recall(label=1)"
      ],
      "metadata": {
        "id": "K2bnX3R6_Sj8"
      },
      "execution_count": null,
      "outputs": []
    },
    {
      "cell_type": "code",
      "source": [
        "print(\"Summary Stats\")\n",
        "print(\"Confusion Matrix = \\n %s\" % confusionMatrix)\n",
        "print(\"Precision = %s\" % precision) \n",
        "print(\"Recall = %s\" % recall)"
      ],
      "metadata": {
        "colab": {
          "base_uri": "https://localhost:8080/"
        },
        "id": "9dm8nzT5_l0k",
        "outputId": "fb157360-581d-4d21-a274-8d0876ecba20"
      },
      "execution_count": null,
      "outputs": [
        {
          "output_type": "stream",
          "name": "stdout",
          "text": [
            "Summary Stats\n",
            "Confusion Matrix = \n",
            " DenseMatrix([[7830.,  187.],\n",
            "             [ 704.,  321.]])\n",
            "Precision = 0.6318897637795275\n",
            "Recall = 0.3131707317073171\n"
          ]
        }
      ]
    },
    {
      "cell_type": "code",
      "source": [
        "# Area under precision-recall curve\n",
        "\n",
        "print(\"Area under PR = %s\" % metricsBinary.areaUnderPR) \n",
        "\n",
        "# Area under ROC curve\n",
        "\n",
        "print(\"Area under ROC = %s\" % metricsBinary.areaUnderROC)"
      ],
      "metadata": {
        "colab": {
          "base_uri": "https://localhost:8080/"
        },
        "id": "xf2OIkB0_puL",
        "outputId": "98993923-7755-466b-ff93-ae9c8de6e1f5"
      },
      "execution_count": null,
      "outputs": [
        {
          "output_type": "stream",
          "name": "stdout",
          "text": [
            "Area under PR = 0.45381901211965736\n",
            "Area under ROC = 0.6449226491267033\n"
          ]
        }
      ]
    },
    {
      "cell_type": "markdown",
      "source": [
        "## Let us now fine tune the model. Performing Hyperparameter tuning using 5-fold cross validation\n",
        "\n"
      ],
      "metadata": {
        "id": "AMDVLPI0UmnX"
      }
    },
    {
      "cell_type": "code",
      "source": [
        "paramGrid = (ParamGridBuilder()\n",
        "             .addGrid(lr.regParam, [0.01, 0.5, 2.0])\n",
        "             .addGrid(lr.elasticNetParam, [0.0, 0.5, 1.0])\n",
        "             .addGrid(lr.maxIter, [1, 5, 10])\n",
        "             .build())\n",
        "\n",
        "evaluator = BinaryClassificationEvaluator(rawPredictionCol=\"prediction\",labelCol=\"indexedLabel\")"
      ],
      "metadata": {
        "id": "QP9gGEdcVHvT"
      },
      "execution_count": null,
      "outputs": []
    },
    {
      "cell_type": "markdown",
      "source": [
        "## Create and run 5-fold CrossValidator"
      ],
      "metadata": {
        "id": "UYjIOxdJVO1J"
      }
    },
    {
      "cell_type": "code",
      "source": [
        "pipeline = Pipeline(stages=[featureIndexer, lr, labelConverter]) \n",
        "cv = CrossValidator(estimator=pipeline, estimatorParamMaps=paramGrid, evaluator=evaluator, numFolds=5, parallelism=10, seed=100)\n",
        "cvModel = cv.fit(trainingData)"
      ],
      "metadata": {
        "id": "E6c0mk6QVSEh"
      },
      "execution_count": null,
      "outputs": []
    },
    {
      "cell_type": "markdown",
      "source": [
        "## CV Model uses the best model found from the Cross Validation. Use test or new data to measure the accuracy of the model"
      ],
      "metadata": {
        "id": "6-QwD0JYV8HR"
      }
    },
    {
      "cell_type": "code",
      "source": [
        "predictions = cvModel.transform(testData)\n",
        "\n",
        "predictions.select(\"features\", \"label\", \"probability\", \"predictedLabel\").show(10)"
      ],
      "metadata": {
        "colab": {
          "base_uri": "https://localhost:8080/"
        },
        "id": "ogdUIqAnWIIK",
        "outputId": "6e7c3966-8b76-4e2c-cd32-3ce01dee7040"
      },
      "execution_count": null,
      "outputs": [
        {
          "output_type": "stream",
          "name": "stdout",
          "text": [
            "+--------------------+-----+--------------------+--------------+\n",
            "|            features|label|         probability|predictedLabel|\n",
            "+--------------------+-----+--------------------+--------------+\n",
            "|(30,[0,11,13,16,1...|   no|[0.92851810967124...|            no|\n",
            "|(30,[0,11,13,16,1...|   no|[0.59534321366419...|            no|\n",
            "|(30,[0,11,13,16,1...|   no|[0.97228751332930...|            no|\n",
            "|(30,[0,11,13,16,1...|   no|[0.90520770026427...|            no|\n",
            "|(30,[0,11,13,16,1...|  yes|[0.43276525947074...|           yes|\n",
            "|(30,[0,11,13,16,1...|   no|[0.92672214395198...|            no|\n",
            "|(30,[0,11,13,16,1...|   no|[0.95503335557052...|            no|\n",
            "|(30,[0,11,13,16,1...|   no|[0.93145483376752...|            no|\n",
            "|(30,[0,11,13,16,1...|   no|[0.97443451729485...|            no|\n",
            "|(30,[0,11,13,16,1...|   no|[0.98423520085167...|            no|\n",
            "+--------------------+-----+--------------------+--------------+\n",
            "only showing top 10 rows\n",
            "\n"
          ]
        }
      ]
    },
    {
      "cell_type": "markdown",
      "source": [
        "## Evaluating the best model"
      ],
      "metadata": {
        "id": "REXQhdwpWtaD"
      }
    },
    {
      "cell_type": "code",
      "source": [
        "evaluator = MulticlassClassificationEvaluator(labelCol=\"indexedLabel\", predictionCol=\"prediction\", metricName=\"accuracy\")\n",
        "print(\"The Accuracy for test set is {}\".format(evaluator.evaluate(predictions)))"
      ],
      "metadata": {
        "colab": {
          "base_uri": "https://localhost:8080/"
        },
        "id": "hi3QcQkkWwOQ",
        "outputId": "45996119-b7b8-455c-8f90-718ca41d6bc6"
      },
      "execution_count": null,
      "outputs": [
        {
          "output_type": "stream",
          "name": "stdout",
          "text": [
            "The Accuracy for test set is 0.8965936739659367\n"
          ]
        }
      ]
    },
    {
      "cell_type": "code",
      "source": [
        "predictionAndLabel = predictions.select(\"prediction\", \"indexedLabel\").rdd\n",
        "\n",
        "# Instantiate metrics object \n",
        "metricsMulti = MulticlassMetrics(predictionAndLabel)\n",
        "metricsBinary= BinaryClassificationMetrics(predictionAndLabel)\n",
        "# Overall statistics \n",
        "confusionMatrix = metricsMulti.confusionMatrix()\n",
        "precision = metricsMulti.precision(label=1) \n",
        "recall = metricsMulti.recall(label=1) \n",
        "print(\"Summary Stats\")\n",
        "print(\"Confusion Matrix = \\n %s\" % confusionMatrix)\n",
        "print(\"Precision = %s\" % precision) \n",
        "print(\"Recall = %s\" % recall)"
      ],
      "metadata": {
        "colab": {
          "base_uri": "https://localhost:8080/"
        },
        "id": "hj5MDZdCW32F",
        "outputId": "7000328c-a5b2-4126-bf9e-a26ea5c74cfd"
      },
      "execution_count": null,
      "outputs": [
        {
          "output_type": "stream",
          "name": "stderr",
          "text": [
            "/usr/local/lib/python3.7/dist-packages/pyspark/sql/context.py:127: FutureWarning: Deprecated in 3.0.0. Use SparkSession.builder.getOrCreate() instead.\n",
            "  FutureWarning\n"
          ]
        },
        {
          "output_type": "stream",
          "name": "stdout",
          "text": [
            "Summary Stats\n",
            "Confusion Matrix = \n",
            " DenseMatrix([[7890.,  127.],\n",
            "             [ 808.,  217.]])\n",
            "Precision = 0.6308139534883721\n",
            "Recall = 0.21170731707317073\n"
          ]
        }
      ]
    },
    {
      "cell_type": "code",
      "source": [
        "# Area under precision-recall curve\n",
        "\n",
        "print(\"Area under PR = %s\" % metricsBinary.areaUnderPR) \n",
        "\n",
        "# Area under ROC curve\n",
        " \n",
        "print(\"Area under ROC = %s\" % metricsBinary.areaUnderROC)"
      ],
      "metadata": {
        "colab": {
          "base_uri": "https://localhost:8080/"
        },
        "id": "FTlkUfSXW3vA",
        "outputId": "f9232fbe-a19d-4c52-faaf-1c5608d0533a"
      },
      "execution_count": null,
      "outputs": [
        {
          "output_type": "stream",
          "name": "stdout",
          "text": [
            "Area under PR = 0.42686132202366145\n",
            "Area under ROC = 0.5979329899573164\n"
          ]
        }
      ]
    },
    {
      "cell_type": "markdown",
      "source": [
        "## Let us now fit a decision tree model to see how it performs\n",
        "\n",
        "## https://spark.apache.org/docs/latest/mllib-decision-tree.html"
      ],
      "metadata": {
        "id": "arUAKF97XMET"
      }
    },
    {
      "cell_type": "code",
      "source": [
        "# Create initial Decision Tree Model\n",
        "\n",
        "dt = DecisionTreeClassifier(labelCol=\"indexedLabel\", featuresCol=\"features\")"
      ],
      "metadata": {
        "id": "QZgcuiBrW3JG"
      },
      "execution_count": null,
      "outputs": []
    },
    {
      "cell_type": "code",
      "source": [
        "# Train model with Training Data\n",
        "\n",
        "dtModel = dt.fit(trainingData)"
      ],
      "metadata": {
        "id": "FPDi6yiUYNtD"
      },
      "execution_count": null,
      "outputs": []
    },
    {
      "cell_type": "code",
      "source": [
        "# Make predictions on test data\n",
        "\n",
        "predictions = dtModel.transform(testData)"
      ],
      "metadata": {
        "id": "G9BkEU9pYQs8"
      },
      "execution_count": null,
      "outputs": []
    },
    {
      "cell_type": "code",
      "source": [
        "# Evaluate the model by computing the metrics. \n",
        "evaluator = MulticlassClassificationEvaluator(labelCol=\"indexedLabel\", predictionCol=\"prediction\", metricName=\"accuracy\")\n",
        "print(\"The Accuracy for test set is {}\".format(evaluator.evaluate(predictions)))"
      ],
      "metadata": {
        "colab": {
          "base_uri": "https://localhost:8080/"
        },
        "id": "0CDzhNGjYQfA",
        "outputId": "a3fc4d29-cf2b-4150-bb76-8f90c85a4a72"
      },
      "execution_count": null,
      "outputs": [
        {
          "output_type": "stream",
          "name": "stdout",
          "text": [
            "The Accuracy for test set is 0.8990267639902676\n"
          ]
        }
      ]
    },
    {
      "cell_type": "markdown",
      "source": [
        "## Let us generate a Confusion Matrix to better see the results of the predictions. ConfusionMatrix() works only with RDDs, so we will have to convert our DataFrame of (prediction, label) into a RDD."
      ],
      "metadata": {
        "id": "B-aXBU1FY00-"
      }
    },
    {
      "cell_type": "code",
      "source": [
        "predictionAndLabel = predictions.select(\"prediction\", \"indexedLabel\").rdd\n",
        "\n",
        "# Instantiate metrics object \n",
        "metricsMulti = MulticlassMetrics(predictionAndLabel)\n",
        "metricsBinary= BinaryClassificationMetrics(predictionAndLabel)\n",
        "# Overall statistics \n",
        "confusionMatrix = metricsMulti.confusionMatrix()\n",
        "precision = metricsMulti.precision(label=1) \n",
        "recall = metricsMulti.recall(label=1)  \n",
        "print(\"Summary Stats\")\n",
        "print(\"Confusion Matrix = \\n %s\" % confusionMatrix)\n",
        "print(\"Precision = %s\" % precision) \n",
        "print(\"Recall = %s\" % recall) "
      ],
      "metadata": {
        "colab": {
          "base_uri": "https://localhost:8080/"
        },
        "id": "xX4a3jmGYnVK",
        "outputId": "4e48de13-1d7f-4950-c37a-401a6558f4b2"
      },
      "execution_count": null,
      "outputs": [
        {
          "output_type": "stream",
          "name": "stderr",
          "text": [
            "/usr/local/lib/python3.7/dist-packages/pyspark/sql/context.py:127: FutureWarning: Deprecated in 3.0.0. Use SparkSession.builder.getOrCreate() instead.\n",
            "  FutureWarning\n"
          ]
        },
        {
          "output_type": "stream",
          "name": "stdout",
          "text": [
            "Summary Stats\n",
            "Confusion Matrix = \n",
            " DenseMatrix([[7797.,  220.],\n",
            "             [ 693.,  332.]])\n",
            "Precision = 0.6014492753623188\n",
            "Recall = 0.32390243902439025\n"
          ]
        }
      ]
    },
    {
      "cell_type": "markdown",
      "source": [
        "## Hyperparameter tuning with 5-fold cross validation"
      ],
      "metadata": {
        "id": "3T_nmJzVZKIY"
      }
    },
    {
      "cell_type": "code",
      "source": [
        "paramGrid = (ParamGridBuilder()\n",
        "             .addGrid(dt.maxDepth, [1, 2, 6, 10])\n",
        "             .addGrid(dt.maxBins, [20, 40, 80])\n",
        "             .build())\n",
        "\n",
        "evaluator = BinaryClassificationEvaluator(rawPredictionCol=\"prediction\",labelCol=\"indexedLabel\")"
      ],
      "metadata": {
        "id": "hXfuPyxTZO0e"
      },
      "execution_count": null,
      "outputs": []
    },
    {
      "cell_type": "code",
      "source": [
        "pipeline = Pipeline(stages=[featureIndexer, dt, labelConverter]) \n",
        "cv = CrossValidator(estimator=pipeline, estimatorParamMaps=paramGrid, evaluator=evaluator, numFolds=5, parallelism=10, seed=100)\n",
        "cvModel = cv.fit(trainingData)"
      ],
      "metadata": {
        "id": "6PO4LEDxZTQM"
      },
      "execution_count": null,
      "outputs": []
    },
    {
      "cell_type": "code",
      "source": [
        "predictions = cvModel.transform(testData)"
      ],
      "metadata": {
        "id": "1pZtvJ0xZXvd"
      },
      "execution_count": null,
      "outputs": []
    },
    {
      "cell_type": "code",
      "source": [
        "# Evaluate the best model\n",
        "evaluator = MulticlassClassificationEvaluator(labelCol=\"indexedLabel\", predictionCol=\"prediction\", metricName=\"accuracy\")\n",
        "print(\"The Accuracy for test set is {}\".format(evaluator.evaluate(predictions)))"
      ],
      "metadata": {
        "colab": {
          "base_uri": "https://localhost:8080/"
        },
        "id": "azkGOqQDZ0U7",
        "outputId": "246156a4-07fc-4e1e-88e8-3c7ce7d16908"
      },
      "execution_count": null,
      "outputs": [
        {
          "output_type": "stream",
          "name": "stdout",
          "text": [
            "The Accuracy for test set is 0.893828798938288\n"
          ]
        }
      ]
    },
    {
      "cell_type": "code",
      "source": [
        "predictionAndLabel = predictions.select(\"prediction\", \"indexedLabel\").rdd\n",
        "\n",
        "# Instantiate metrics object \n",
        "\n",
        "metricsMulti = MulticlassMetrics(predictionAndLabel)\n",
        "metricsBinary= BinaryClassificationMetrics(predictionAndLabel)\n",
        "\n",
        "# Overall statistics \n",
        "\n",
        "confusionMatrix = metricsMulti.confusionMatrix()\n",
        "precision = metricsMulti.precision(label=1) \n",
        "recall = metricsMulti.recall(label=1) \n",
        "\n",
        "print(\"Summary Stats\")\n",
        "print(\"Confusion Matrix = \\n %s\" % confusionMatrix)\n",
        "print(\"Precision = %s\" % precision) \n",
        "print(\"Recall = %s\" % recall) \n",
        " \n",
        "\n",
        "# Area under precision-recall curve\n",
        "\n",
        "print(\"Area under PR = %s\" % metricsBinary.areaUnderPR) \n",
        "\n",
        "# Area under ROC curve \n",
        "\n",
        "print(\"Area under ROC = %s\" % metricsBinary.areaUnderROC)"
      ],
      "metadata": {
        "colab": {
          "base_uri": "https://localhost:8080/"
        },
        "id": "w0bG5cL3Z6Bo",
        "outputId": "79d469fa-588c-4ca9-ce37-ee346abf81f4"
      },
      "execution_count": null,
      "outputs": [
        {
          "output_type": "stream",
          "name": "stderr",
          "text": [
            "/usr/local/lib/python3.7/dist-packages/pyspark/sql/context.py:127: FutureWarning: Deprecated in 3.0.0. Use SparkSession.builder.getOrCreate() instead.\n",
            "  FutureWarning\n"
          ]
        },
        {
          "output_type": "stream",
          "name": "stdout",
          "text": [
            "Summary Stats\n",
            "Confusion Matrix = \n",
            " DenseMatrix([[7727.,  290.],\n",
            "             [ 670.,  355.]])\n",
            "Precision = 0.5503875968992248\n",
            "Recall = 0.3463414634146341\n",
            "Area under PR = 0.4075541466977763\n",
            "Area under ROC = 0.6550841656601671\n"
          ]
        }
      ]
    },
    {
      "cell_type": "markdown",
      "source": [
        "## Let us now fit a Random Forest Model to see how it performs"
      ],
      "metadata": {
        "id": "nRFvR7Sfau_9"
      }
    },
    {
      "cell_type": "code",
      "source": [
        "# Create initial Random Forest Classifier\n",
        "rf = RandomForestClassifier(labelCol=\"indexedLabel\", featuresCol=\"features\")\n"
      ],
      "metadata": {
        "id": "rec8XbvbapQU"
      },
      "execution_count": null,
      "outputs": []
    },
    {
      "cell_type": "code",
      "source": [
        "# Train model with Training Data.\n",
        "rfModel = rf.fit(trainingData)"
      ],
      "metadata": {
        "id": "HvhPJhiYa38l"
      },
      "execution_count": null,
      "outputs": []
    },
    {
      "cell_type": "code",
      "source": [
        "# Make predictions on test data.\n",
        "predictions = rfModel.transform(testData)"
      ],
      "metadata": {
        "id": "snThyNIfa7Tu"
      },
      "execution_count": null,
      "outputs": []
    },
    {
      "cell_type": "code",
      "source": [
        "# Evaluate the model by computing the metrics. \n",
        "evaluator = MulticlassClassificationEvaluator(labelCol=\"indexedLabel\", predictionCol=\"prediction\", metricName=\"accuracy\")\n",
        "print(\"The Accuracy for test set is {}\".format(evaluator.evaluate(predictions)))"
      ],
      "metadata": {
        "colab": {
          "base_uri": "https://localhost:8080/"
        },
        "id": "U5Jn7pqsbAJC",
        "outputId": "e7538914-018a-4e06-bb4e-3376704c4685"
      },
      "execution_count": null,
      "outputs": [
        {
          "output_type": "stream",
          "name": "stdout",
          "text": [
            "The Accuracy for test set is 0.8880778588807786\n"
          ]
        }
      ]
    },
    {
      "cell_type": "code",
      "source": [
        "predictionAndLabel = predictions.select(\"prediction\", \"indexedLabel\").rdd\n",
        "\n",
        "# Instantiate metrics object\n",
        "\n",
        "metricsMulti = MulticlassMetrics(predictionAndLabel)\n",
        "metricsBinary= BinaryClassificationMetrics(predictionAndLabel)\n",
        "\n",
        "# Overall statistics\n",
        "\n",
        "confusionMatrix = metricsMulti.confusionMatrix()\n",
        "precision = metricsMulti.precision(label=1) \n",
        "recall = metricsMulti.recall(label=1) \n",
        "\n",
        "print(\"Summary Stats\")\n",
        "print(\"Confusion Matrix = \\n %s\" % confusionMatrix)\n",
        "print(\"Precision = %s\" % precision) \n",
        "print(\"Recall = %s\" % recall) \n",
        " \n",
        "\n",
        "# Area under precision-recall curve\n",
        "\n",
        "print(\"Area under PR = %s\" % metricsBinary.areaUnderPR) \n",
        "\n",
        "# Area under ROC curve \n",
        "\n",
        "print(\"Area under ROC = %s\" % metricsBinary.areaUnderROC)"
      ],
      "metadata": {
        "colab": {
          "base_uri": "https://localhost:8080/"
        },
        "id": "G5hkjtaKbCDR",
        "outputId": "fcfd607c-9760-4d10-b071-cbb1f059ba11"
      },
      "execution_count": null,
      "outputs": [
        {
          "output_type": "stream",
          "name": "stderr",
          "text": [
            "/usr/local/lib/python3.7/dist-packages/pyspark/sql/context.py:127: FutureWarning: Deprecated in 3.0.0. Use SparkSession.builder.getOrCreate() instead.\n",
            "  FutureWarning\n"
          ]
        },
        {
          "output_type": "stream",
          "name": "stdout",
          "text": [
            "Summary Stats\n",
            "Confusion Matrix = \n",
            " DenseMatrix([[8.010e+03, 7.000e+00],\n",
            "             [1.005e+03, 2.000e+01]])\n",
            "Precision = 0.7407407407407407\n",
            "Recall = 0.01951219512195122\n",
            "Area under PR = 0.43317109736016624\n",
            "Area under ROC = 0.5093195252770789\n"
          ]
        }
      ]
    },
    {
      "cell_type": "markdown",
      "source": [
        "## Hyperparameter tuning using 5-fold cross validation"
      ],
      "metadata": {
        "id": "C3AZRsIxbf83"
      }
    },
    {
      "cell_type": "code",
      "source": [
        "paramGrid = (ParamGridBuilder()\n",
        "             .addGrid(rf.maxDepth, [2, 4, 6])\n",
        "             .addGrid(rf.maxBins, [20, 60])\n",
        "             .addGrid(rf.numTrees, [5, 20])\n",
        "             .build())\n",
        "\n",
        "evaluator = BinaryClassificationEvaluator(rawPredictionCol=\"prediction\",labelCol=\"indexedLabel\")"
      ],
      "metadata": {
        "id": "H6Itf9bLbbpW"
      },
      "execution_count": null,
      "outputs": []
    },
    {
      "cell_type": "code",
      "source": [
        "pipeline = Pipeline(stages=[featureIndexer, rf, labelConverter]) \n",
        "cv = CrossValidator(estimator=pipeline, estimatorParamMaps=paramGrid, evaluator=evaluator, numFolds=5, parallelism=10, seed=100)\n",
        "cvModel = cv.fit(trainingData)"
      ],
      "metadata": {
        "id": "MGpFsduibm1Y"
      },
      "execution_count": null,
      "outputs": []
    },
    {
      "cell_type": "code",
      "source": [
        "predictions = cvModel.transform(testData)"
      ],
      "metadata": {
        "id": "lFhCLltjb4Ad"
      },
      "execution_count": null,
      "outputs": []
    },
    {
      "cell_type": "code",
      "source": [
        "# Evaluate the best model\n",
        "\n",
        "evaluator = MulticlassClassificationEvaluator(labelCol=\"indexedLabel\", predictionCol=\"prediction\", metricName=\"accuracy\")\n",
        "print(\"The Accuracy for test set is {}\".format(evaluator.evaluate(predictions)))"
      ],
      "metadata": {
        "colab": {
          "base_uri": "https://localhost:8080/"
        },
        "id": "5MCWgtAHcH1w",
        "outputId": "4045b590-3aa4-4dfd-d2f2-2bd042e36185"
      },
      "execution_count": null,
      "outputs": [
        {
          "output_type": "stream",
          "name": "stdout",
          "text": [
            "The Accuracy for test set is 0.8880778588807786\n"
          ]
        }
      ]
    },
    {
      "cell_type": "code",
      "source": [
        "predictionAndLabel = predictions.select(\"prediction\", \"indexedLabel\").rdd\n",
        "\n",
        "# Instantiate metrics object \n",
        "\n",
        "metricsMulti = MulticlassMetrics(predictionAndLabel)\n",
        "metricsBinary= BinaryClassificationMetrics(predictionAndLabel)\n",
        "# Overall statistics\n",
        "\n",
        "confusionMatrix = metricsMulti.confusionMatrix()\n",
        "precision = metricsMulti.precision(label=1) \n",
        "recall = metricsMulti.recall(label=1) \n",
        " \n",
        "print(\"Summary Stats\")\n",
        "print(\"Confusion Matrix = \\n %s\" % confusionMatrix)\n",
        "print(\"Precision = %s\" % precision) \n",
        "print(\"Recall = %s\" % recall) \n",
        "\n",
        "\n",
        "# Area under precision-recall curve \n",
        "\n",
        "print(\"Area under PR = %s\" % metricsBinary.areaUnderPR) \n",
        "\n",
        "# Area under ROC curve\n",
        " \n",
        "print(\"Area under ROC = %s\" % metricsBinary.areaUnderROC)"
      ],
      "metadata": {
        "colab": {
          "base_uri": "https://localhost:8080/"
        },
        "id": "DB1-qZ-LcKzf",
        "outputId": "fdfca589-7dd6-4db3-cd12-e7e1d9533a23"
      },
      "execution_count": null,
      "outputs": [
        {
          "output_type": "stream",
          "name": "stderr",
          "text": [
            "/usr/local/lib/python3.7/dist-packages/pyspark/sql/context.py:127: FutureWarning: Deprecated in 3.0.0. Use SparkSession.builder.getOrCreate() instead.\n",
            "  FutureWarning\n"
          ]
        },
        {
          "output_type": "stream",
          "name": "stdout",
          "text": [
            "Summary Stats\n",
            "Confusion Matrix = \n",
            " DenseMatrix([[7993.,   24.],\n",
            "             [ 988.,   37.]])\n",
            "Precision = 0.6065573770491803\n",
            "Recall = 0.03609756097560975\n",
            "Area under PR = 0.3688602400225488\n",
            "Area under ROC = 0.5165519612287305\n"
          ]
        }
      ]
    },
    {
      "cell_type": "markdown",
      "source": [
        "## We have fitted logistic regression, decision tree and random forest algorithms to our dataset. Upon comparing we found that Logistic Regression performed the best among them."
      ],
      "metadata": {
        "id": "vysviRRDeEIP"
      }
    }
  ]
}